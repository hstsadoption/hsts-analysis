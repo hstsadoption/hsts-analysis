{
 "cells": [
  {
   "cell_type": "markdown",
   "metadata": {},
   "source": [
    "# Chromium"
   ]
  },
  {
   "cell_type": "code",
   "execution_count": null,
   "metadata": {},
   "outputs": [],
   "source": [
    "import subprocess\n",
    "import json\n",
    "import os\n",
    "import datetime"
   ]
  },
  {
   "cell_type": "code",
   "execution_count": null,
   "metadata": {},
   "outputs": [],
   "source": [
    "GIT_REPO = '/root/hstsadoption.github.io'"
   ]
  },
  {
   "cell_type": "code",
   "execution_count": null,
   "metadata": {},
   "outputs": [],
   "source": [
    "def getChromiumPreloadSize():\n",
    "    \"\"\"Loads the chromium preload list and counts the hsts entries\"\"\"\n",
    "    \n",
    "    count = subprocess.run(['./chromium-count.sh'], check=True, stdout=subprocess.PIPE).stdout.decode('utf-8')\n",
    "    return int(count)"
   ]
  },
  {
   "cell_type": "code",
   "execution_count": null,
   "metadata": {},
   "outputs": [],
   "source": [
    "# Load preload list size\n",
    "print(\"Analyzing chromium preload list\")\n",
    "timestamp = int(datetime.datetime.now().timestamp()) * 1000\n",
    "size = getChromiumPreloadSize()"
   ]
  },
  {
   "cell_type": "code",
   "execution_count": null,
   "metadata": {},
   "outputs": [],
   "source": [
    "# Update repository\n",
    "print(\"Updating local repository\")\n",
    "subprocess.run(['git', '-C', GIT_REPO, 'pull'])"
   ]
  },
  {
   "cell_type": "code",
   "execution_count": null,
   "metadata": {},
   "outputs": [],
   "source": [
    "# Update data files\n",
    "print(\"Updating data files\")\n",
    "for ds in ['ipv4', 'ipv6', 'merged']:\n",
    "    file = os.path.join(GIT_REPO, 'data', 'configuration', 'absolute', ds + '.json')\n",
    "    configData = {}\n",
    "    \n",
    "    with open(file, 'r') as f:\n",
    "        configData = json.loads(f.read())\n",
    "        \n",
    "    configData['chromium'] = configData.get('chromium', [])\n",
    "    configData['chromium'].append([timestamp, size])\n",
    "    configData['chromium'].sort(key=lambda x: x[0])\n",
    "    \n",
    "    with open(file, 'w') as f:\n",
    "        json.dump(configData, f, indent=\"\\t\", sort_keys=True)\n",
    "    \n",
    "    # Add file to git\n",
    "    subprocess.run(['git', '-C', GIT_REPO, 'add', file])"
   ]
  },
  {
   "cell_type": "code",
   "execution_count": null,
   "metadata": {},
   "outputs": [],
   "source": [
    "# Deploy changes\n",
    "print(\"Deploying changes\")\n",
    "subprocess.run(['git', '-C', GIT_REPO, 'commit', '-m', \"automated update (chromium preload list)\"])\n",
    "subprocess.run(['git', '-C', GIT_REPO, 'push'])"
   ]
  }
 ],
 "metadata": {
  "kernelspec": {
   "display_name": "Python 3",
   "language": "python",
   "name": "python3"
  },
  "language_info": {
   "codemirror_mode": {
    "name": "ipython",
    "version": 3
   },
   "file_extension": ".py",
   "mimetype": "text/x-python",
   "name": "python",
   "nbconvert_exporter": "python",
   "pygments_lexer": "ipython3",
   "version": "3.6.5"
  }
 },
 "nbformat": 4,
 "nbformat_minor": 2
}
